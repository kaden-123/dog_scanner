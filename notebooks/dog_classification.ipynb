{
 "cells": [
  {
   "cell_type": "code",
   "execution_count": 18,
   "id": "768ef44c-7f1c-4748-b1ba-df3754a6c43c",
   "metadata": {},
   "outputs": [
    {
     "ename": "SyntaxError",
     "evalue": "unterminated string literal (detected at line 11) (1258401931.py, line 11)",
     "output_type": "error",
     "traceback": [
      "\u001b[0;36m  Cell \u001b[0;32mIn[18], line 11\u001b[0;36m\u001b[0m\n\u001b[0;31m    sys.path.append('/home/kadenw/Workspace/dog_scanner/dog_scanner')\"\u001b[0m\n\u001b[0m                                                                     ^\u001b[0m\n\u001b[0;31mSyntaxError\u001b[0m\u001b[0;31m:\u001b[0m unterminated string literal (detected at line 11)\n"
     ]
    }
   ],
   "source": [
    "import torch \n",
    "from torch import nn\n",
    "from PIL import Image\n",
    "from torch.utils.data import DataLoader, random_split, Subset\n",
    "import torchvision.transforms as transforms\n",
    "from torchvision import datasets\n",
    "import os\n",
    "from tqdm.auto import tqdm\n",
    "from timeit import default_timer as timer\n",
    "import sys\n",
    "sys.path.append('/home/kadenw/Workspace/dog_scanner/dog_scanner')\"\n",
    "from dog_scanner import (\n",
    "    plot_loss_curves\n",
    ")"
   ]
  },
  {
   "cell_type": "code",
   "execution_count": 4,
   "id": "b930aa21-f646-4188-9fe5-c51d3c894ad4",
   "metadata": {},
   "outputs": [
    {
     "name": "stdout",
     "output_type": "stream",
     "text": [
      "cuda\n"
     ]
    }
   ],
   "source": [
    "device = 'cuda' if torch.cuda.is_available() else 'cpu'\n",
    "print(device)"
   ]
  },
  {
   "cell_type": "code",
   "execution_count": 5,
   "id": "4bf1459d-6959-4f1e-a43c-5da2001645da",
   "metadata": {},
   "outputs": [],
   "source": [
    "sdogs_path = '/home/kadenw/Workspace/dog_scanner/data/stanford_dogs/images/Images'"
   ]
  },
  {
   "cell_type": "code",
   "execution_count": 6,
   "id": "e684dcc5-2d12-4d7c-8251-6afd7719070c",
   "metadata": {},
   "outputs": [],
   "source": [
    "aug_transform = transforms.Compose([\n",
    "    transforms.Resize(size = (256, 256)),\n",
    "    transforms.TrivialAugmentWide(num_magnitude_bins=31),\n",
    "    transforms.ToTensor()\n",
    "])\n",
    "orig_transform = transforms.Compose([\n",
    "    transforms.Resize(size = (256, 256)),\n",
    "    transforms.ToTensor()\n",
    "])"
   ]
  },
  {
   "cell_type": "code",
   "execution_count": 7,
   "id": "ff565d25-891b-439d-9204-c9cfbf2cc36b",
   "metadata": {},
   "outputs": [],
   "source": [
    "data = datasets.ImageFolder(root = sdogs_path,\n",
    "                            transform = orig_transform,\n",
    "                            target_transform = None)\n",
    "total_size = len(data)\n",
    "train_size = int(total_size*0.8)\n",
    "test_size = total_size-train_size\n",
    "train_data, test_data = random_split(data, [train_size, test_size])"
   ]
  },
  {
   "cell_type": "code",
   "execution_count": 8,
   "id": "45519de5-7bb2-4b7f-a108-11e97c7d49e4",
   "metadata": {},
   "outputs": [],
   "source": [
    "aug_train_data = Subset(datasets.ImageFolder(root=sdogs_path, \n",
    "                                       transform=aug_transform),\n",
    "                                       train_data.indices)\n",
    "comb = torch.utils.data.ConcatDataset([train_data, aug_train_data])"
   ]
  },
  {
   "cell_type": "code",
   "execution_count": 9,
   "id": "bac3be67-6e9c-44c7-82a7-e80d835d9b00",
   "metadata": {},
   "outputs": [],
   "source": [
    "NUM_WORKERS = os.cpu_count()\n",
    "BATCH_SIZE = 32"
   ]
  },
  {
   "cell_type": "code",
   "execution_count": 10,
   "id": "e9a7e513-90f9-4fcf-a2ad-296e524cbed1",
   "metadata": {},
   "outputs": [],
   "source": [
    "train_dataloader = DataLoader(dataset = comb, \n",
    "                              batch_size=BATCH_SIZE, \n",
    "                              num_workers=NUM_WORKERS, \n",
    "                              shuffle=True)\n",
    "test_dataloader = DataLoader(dataset = comb, \n",
    "                             batch_size=BATCH_SIZE, \n",
    "                             num_workers=NUM_WORKERS, \n",
    "                             shuffle=False)"
   ]
  },
  {
   "cell_type": "code",
   "execution_count": 11,
   "id": "e1849b9c-481e-4ce6-a7e0-0bb7b1869776",
   "metadata": {},
   "outputs": [],
   "source": [
    "class dog_classify(nn.Module):\n",
    "    \"\"\"\n",
    "    Model architecture copying TinyVGG from: \n",
    "    https://poloclub.github.io/cnn-explainer/\n",
    "    \"\"\"\n",
    "    def __init__(self, input_shape: int, filters: int, output_shape: int) -> None:\n",
    "        super().__init__()\n",
    "        self.conv_block_1 = nn.Sequential(\n",
    "            nn.Conv2d(in_channels=input_shape, \n",
    "                      out_channels=filters, \n",
    "                      kernel_size=3, # how big is the square that's going over the image?\n",
    "                      stride=1, # default\n",
    "                      padding=1), # options = \"valid\" (no padding) or \"same\" (output has same shape as input) or int for specific number \n",
    "            nn.ReLU(),\n",
    "            nn.Conv2d(in_channels=filters, \n",
    "                      out_channels=filters,\n",
    "                      kernel_size=3,\n",
    "                      stride=1,\n",
    "                      padding=1),\n",
    "            nn.ReLU(),\n",
    "            nn.MaxPool2d(kernel_size=2,\n",
    "                         stride=2) # default stride value is same as kernel_size\n",
    "        )\n",
    "        self.conv_block_2 = nn.Sequential(\n",
    "            nn.Conv2d(filters, filters, kernel_size=3, padding=1),\n",
    "            nn.ReLU(),\n",
    "            nn.Conv2d(filters, filters, kernel_size=3, padding=1),\n",
    "            nn.ReLU(),\n",
    "            nn.MaxPool2d(2)\n",
    "        )\n",
    "        self.classifier = nn.Sequential(\n",
    "            nn.Flatten(),\n",
    "            # Where did this in_features shape come from? \n",
    "            # It's because each layer of our network compresses and changes the shape of our inputs data.\n",
    "            nn.Linear(in_features=filters*64*64,\n",
    "                      out_features=output_shape)\n",
    "        )\n",
    "        self.Softmax = nn.Softmax(dim = 1)\n",
    "    \n",
    "    def forward(self, x: torch.Tensor):\n",
    "        x = self.conv_block_1(x)\n",
    "        #print(x.shape)\n",
    "        x = self.conv_block_2(x)\n",
    "        #print(x.shape)\n",
    "        x = self.classifier(x)\n",
    "        #print(x.shape)\n",
    "        return self.Softmax(x)\n",
    "        # return self.classifier(self.conv_block_2(self.conv_block_1(x))) # <- leverage the benefits of operator fusion"
   ]
  },
  {
   "cell_type": "code",
   "execution_count": 12,
   "id": "cc0366f4-6c49-4aa9-9fc8-d8961bdde3eb",
   "metadata": {},
   "outputs": [],
   "source": [
    "def train_step(model : torch.nn.Module,\n",
    "               dataloader : torch.utils.data.DataLoader, \n",
    "               loss_fn: torch.nn.Module, \n",
    "               optimizer: torch.optim.Optimizer):\n",
    "    #Set to train mode\n",
    "    model.train()\n",
    "    #Set both loss and accuracy to 0\n",
    "    train_loss = 0 \n",
    "    train_acc = 0\n",
    "\n",
    "    #iterate through dataloader by batches\n",
    "    for batch, (x, y) in enumerate(dataloader):\n",
    "        #put onto device\n",
    "        x = x.to(device)\n",
    "        y = y.to(device)\n",
    "        #forward pass\n",
    "        y_pred = model(x)\n",
    "        #calculate loss and accumlated loss\n",
    "        loss = loss_fn(y_pred, y)\n",
    "        train_loss += loss.item()\n",
    "        #reset optimizer\n",
    "        optimizer.zero_grad()\n",
    "        #loss backward\n",
    "        loss.backward()\n",
    "        #optimizer step\n",
    "        optimizer.step()\n",
    "        y_pred_label = torch.argmax(y_pred, dim = 1)\n",
    "        train_acc += (y_pred_label == y).sum().item()/len(y_pred)\n",
    "\n",
    "    # Adjust metrics to get average loss and accuracy per batch \n",
    "    train_loss = train_loss / len(dataloader)\n",
    "    train_acc = train_acc / len(dataloader)\n",
    "    return train_loss, train_acc"
   ]
  },
  {
   "cell_type": "code",
   "execution_count": 13,
   "id": "f0cd62f2-bca4-4bd2-a556-bee4699f0b3d",
   "metadata": {},
   "outputs": [],
   "source": [
    "def test_step(model : torch.nn.Module,\n",
    "               dataloader : torch.utils.data.DataLoader, \n",
    "               loss_fn: torch.nn.Module):\n",
    "    model.eval()\n",
    "    test_loss = 0\n",
    "    with torch.inference_mode():\n",
    "        for batch, (x,y) in enumerate(dataloader):\n",
    "            x = x.to(device)\n",
    "            y = y.to(device)\n",
    "\n",
    "            test_pred = model(x)\n",
    "            loss = loss_fn(test_pred, y)\n",
    "            test_loss += loss.item()\n",
    "\n",
    "            test_pred_labels = torch.argmax(test_pred, dim = 1)\n",
    "            test_acc = ((test_pred_labels == y).sum().item()/len(test_pred_labels))\n",
    "             \n",
    "    test_loss = test_loss / len(dataloader)\n",
    "    test_acc = test_acc / len(dataloader)\n",
    "    return test_loss, test_acc"
   ]
  },
  {
   "cell_type": "code",
   "execution_count": 14,
   "id": "9815cda3-67da-4213-8562-76a3ea0753ae",
   "metadata": {},
   "outputs": [],
   "source": [
    "def train(model: torch.nn.Module, \n",
    "          train_dataloader: torch.utils.data.DataLoader, \n",
    "          test_dataloader: torch.utils.data.DataLoader, \n",
    "          optimizer: torch.optim.Optimizer,\n",
    "          loss_fn: torch.nn.Module = nn.CrossEntropyLoss(),\n",
    "          epochs: int = 5):\n",
    "    \n",
    "    # 2. Create empty results dictionary\n",
    "    results = {\"train_loss\": [],\n",
    "        \"train_acc\": [],\n",
    "        \"test_loss\": [],\n",
    "        \"test_acc\": []\n",
    "    }\n",
    "    \n",
    "    # 3. Loop through training and testing steps for a number of epochs\n",
    "    for epoch in tqdm(range(epochs)):\n",
    "        train_loss, train_acc = train_step(model=model,\n",
    "                                           dataloader=train_dataloader,\n",
    "                                           loss_fn=loss_fn,\n",
    "                                           optimizer=optimizer)\n",
    "        test_loss, test_acc = test_step(model=model,\n",
    "            dataloader=test_dataloader,\n",
    "            loss_fn=loss_fn)\n",
    "        \n",
    "        # 4. Print out what's happening\n",
    "        print(\n",
    "            f\"Epoch: {epoch+1} | \"\n",
    "            f\"train_loss: {train_loss:.4f} | \"\n",
    "            f\"train_acc: {train_acc:.4f} | \"\n",
    "            f\"test_loss: {test_loss:.4f} | \"\n",
    "            f\"test_acc: {test_acc:.4f}\"\n",
    "        )\n",
    "\n",
    "        # 5. Update results dictionary\n",
    "        results[\"train_loss\"].append(train_loss)\n",
    "        results[\"train_acc\"].append(train_acc)\n",
    "        results[\"test_loss\"].append(test_loss)\n",
    "        results[\"test_acc\"].append(test_acc)\n",
    "\n",
    "    # 6. Return the filled results at the end of the epochs\n",
    "    return results"
   ]
  },
  {
   "cell_type": "code",
   "execution_count": 16,
   "id": "0e4aabc8-2c7b-4203-a622-f9767329d393",
   "metadata": {},
   "outputs": [
    {
     "data": {
      "application/vnd.jupyter.widget-view+json": {
       "model_id": "417509409fa44da1a41ff881a4d9e46b",
       "version_major": 2,
       "version_minor": 0
      },
      "text/plain": [
       "  0%|          | 0/5 [00:00<?, ?it/s]"
      ]
     },
     "metadata": {},
     "output_type": "display_data"
    },
    {
     "name": "stdout",
     "output_type": "stream",
     "text": [
      "Epoch: 1 | train_loss: 4.7918 | train_acc: 0.0092 | test_loss: 4.7929 | test_acc: 0.0000\n",
      "Epoch: 2 | train_loss: 4.7929 | train_acc: 0.0088 | test_loss: 4.7929 | test_acc: 0.0000\n",
      "Epoch: 3 | train_loss: 4.7929 | train_acc: 0.0088 | test_loss: 4.7929 | test_acc: 0.0000\n",
      "Epoch: 4 | train_loss: 4.7929 | train_acc: 0.0088 | test_loss: 4.7929 | test_acc: 0.0000\n",
      "Epoch: 5 | train_loss: 4.7929 | train_acc: 0.0088 | test_loss: 4.7929 | test_acc: 0.0000\n",
      "Total training time: 498.967 seconds\n"
     ]
    }
   ],
   "source": [
    "# Set number of epochs\n",
    "epochs = 5\n",
    "\n",
    "# Recreate an instance of TinyVGG\n",
    "dog_scanner = dog_classify(input_shape=3, # number of color channels (3 for RGB) \n",
    "                  filters=10, \n",
    "                  output_shape=len(data.classes)).to(device)\n",
    "\n",
    "# Setup loss function and optimizer\n",
    "loss_fn = nn.CrossEntropyLoss()\n",
    "optimizer = torch.optim.Adam(params=dog_scanner.parameters(), lr=0.001)\n",
    "\n",
    "# Start the timer \n",
    "start_time = timer()\n",
    "\n",
    "# Train model_0 \n",
    "dog_scanner_results = train(model=dog_scanner, \n",
    "                        train_dataloader=train_dataloader,\n",
    "                        test_dataloader=test_dataloader,\n",
    "                        optimizer=optimizer,\n",
    "                        loss_fn=loss_fn, \n",
    "                        epochs=epochs)\n",
    "\n",
    "# End the timer and print out how long it took\n",
    "end_time = timer()\n",
    "print(f\"Total training time: {end_time-start_time:.3f} seconds\")"
   ]
  },
  {
   "cell_type": "code",
   "execution_count": 17,
   "id": "b8afa696-4414-4f3b-824a-896c74182319",
   "metadata": {},
   "outputs": [
    {
     "data": {
      "image/png": "[encoded data removed]",
      "text/plain": [
       "<Figure size 1500x700 with 2 Axes>"
      ]
     },
     "metadata": {},
     "output_type": "display_data"
    }
   ],
   "source": [
    "plot_loss_curves(dog_scanner_results)"
   ]
  },
  {
   "cell_type": "code",
   "execution_count": null,
   "id": "0ef10ec7-d487-4424-a3ac-76b49d86adc0",
   "metadata": {},
   "outputs": [],
   "source": []
  }
 ],
 "metadata": {
  "kernelspec": {
   "display_name": "Python [conda env:dog_classification]",
   "language": "python",
   "name": "conda-env-dog_classification-py"
  },
  "language_info": {
   "codemirror_mode": {
    "name": "ipython",
    "version": 3
   },
   "file_extension": ".py",
   "mimetype": "text/x-python",
   "name": "python",
   "nbconvert_exporter": "python",
   "pygments_lexer": "ipython3",
   "version": "3.11.9"
  }
 },
 "nbformat": 4,
 "nbformat_minor": 5
}
