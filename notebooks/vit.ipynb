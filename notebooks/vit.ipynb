{
 "cells": [
  {
   "cell_type": "code",
   "execution_count": 1,
   "id": "6d05878e-1b66-41be-b1b3-4860fcb7ad96",
   "metadata": {},
   "outputs": [
    {
     "name": "stdout",
     "output_type": "stream",
     "text": [
      "cuda\n"
     ]
    }
   ],
   "source": [
    "import torch \n",
    "from torch import nn\n",
    "from PIL import Image\n",
    "from torch.utils.data import DataLoader, random_split, Subset\n",
    "import torchvision.transforms as transforms\n",
    "from torchvision.transforms import AutoAugment, AutoAugmentPolicy\n",
    "from torchvision import datasets\n",
    "import os\n",
    "from tqdm.auto import tqdm\n",
    "from timeit import default_timer as timer\n",
    "from torchvision.models import resnet50, ResNet50_Weights\n",
    "import sys\n",
    "sys.path.append('/home/kadenw/Workspace/dog_scanner/dog_scanner')\n",
    "from dog_scanner import (\n",
    "    plot_loss_curves,\n",
    "    train_step,\n",
    "    test_step,\n",
    "    train\n",
    ")\n",
    "\n",
    "device = 'cuda' if torch.cuda.is_available() else 'cpu'\n",
    "print(device)\n",
    "\n",
    "sdogs_path = '/home/kadenw/Workspace/dog_scanner/data/stanford_dogs/images/Images'\n",
    "\n",
    "IMAGE_SIZE = (224, 224)\n",
    "\n",
    "aug_transform = transforms.Compose([\n",
    "    transforms.Resize(size = IMAGE_SIZE),\n",
    "    transforms.TrivialAugmentWide(), \n",
    "   #transforms.AutoAugment(policy=AutoAugmentPolicy.IMAGENET),\n",
    "    transforms.ToTensor()\n",
    "])\n",
    "orig_transform = transforms.Compose([\n",
    "    transforms.Resize(size = IMAGE_SIZE),\n",
    "    transforms.ToTensor()\n",
    "])\n",
    "\n",
    "data = datasets.ImageFolder(root = sdogs_path,\n",
    "                            transform = orig_transform,\n",
    "                            target_transform = None)\n",
    "total_size = len(data)\n",
    "train_size = int(total_size*0.8)\n",
    "test_size = total_size-train_size\n",
    "train_data, test_data = random_split(data, [train_size, test_size])\n",
    "\n",
    "aug_train_data = Subset(datasets.ImageFolder(root=sdogs_path, \n",
    "                                       transform=aug_transform),\n",
    "                                       train_data.indices)\n",
    "comb = torch.utils.data.ConcatDataset([train_data, aug_train_data])\n",
    "\n",
    "NUM_WORKERS = os.cpu_count()\n",
    "BATCH_SIZE = 32\n",
    "\n",
    "train_dataloader = DataLoader(dataset = comb, \n",
    "                              batch_size=BATCH_SIZE, \n",
    "                              num_workers=NUM_WORKERS, \n",
    "                              shuffle=True)\n",
    "test_dataloader = DataLoader(dataset = test_data, \n",
    "                             batch_size=BATCH_SIZE, \n",
    "                             num_workers=NUM_WORKERS, \n",
    "                             shuffle=False)"
   ]
  },
  {
   "cell_type": "code",
   "execution_count": null,
   "id": "d981bd29-00f6-4f5a-a3a2-4ae9d4f8e45b",
   "metadata": {},
   "outputs": [],
   "source": []
  }
 ],
 "metadata": {
  "kernelspec": {
   "display_name": "Python [conda env:dog_classification]",
   "language": "python",
   "name": "conda-env-dog_classification-py"
  },
  "language_info": {
   "codemirror_mode": {
    "name": "ipython",
    "version": 3
   },
   "file_extension": ".py",
   "mimetype": "text/x-python",
   "name": "python",
   "nbconvert_exporter": "python",
   "pygments_lexer": "ipython3",
   "version": "3.11.9"
  }
 },
 "nbformat": 4,
 "nbformat_minor": 5
}
